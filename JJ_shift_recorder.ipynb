{
 "cells": [
  {
   "cell_type": "markdown",
   "id": "29cc8343",
   "metadata": {},
   "source": [
    "The goal is to create a database of earning as a driver to compare over time, the average wage per day. This will serve as a means to judge just how much this short term change in occupation  will affect me monetarily."
   ]
  },
  {
   "cell_type": "markdown",
   "id": "43823273",
   "metadata": {},
   "source": [
    "# Thoughts / Plan / Notes"
   ]
  },
  {
   "cell_type": "markdown",
   "id": "0a204a2f",
   "metadata": {},
   "source": [
    "- set up dictionary of lists to hold info so that per day each item is ordered?\n",
    "- estabilish a wage\n",
    "- make a list / record of earnings per day. \n",
    "- Final earnings need to be (wage * hours)+tips)\n",
    "- effective hourly wage = earnings / hours \n",
    "- profit = earnings * tax rate (0.8225)\n",
    "- set up comparison equation to display earnings at old job amount and effctive change per day\n",
    "- connect to a db?\n",
    "\n",
    "> End goal\n",
    ">> an application that request info, stores to db, then displays plotted changes / info over time.\n",
    "\n",
    "- estabilish means of recording info\n",
    "- process the info\n",
    "- record in a way that allows querying and graphing for data viz purposes\n",
    "- display information\n",
    "\n",
    "## Notes\n",
    "\n",
    "Should the index be the day? How to format?\n",
    "\n",
    "need to add means of making sure dates are a certain length, if you mess up the date, theres no fixing > the entry must be scrapped. ALSO messing up the entry breaks the code.\n"
   ]
  },
  {
   "cell_type": "markdown",
   "id": "10992f4a",
   "metadata": {},
   "source": [
    "--------------------------------------------------------------------------------------"
   ]
  },
  {
   "cell_type": "markdown",
   "id": "a5b68a60",
   "metadata": {},
   "source": [
    "## Global Values - Run *once*"
   ]
  },
  {
   "cell_type": "code",
   "execution_count": 1,
   "id": "3ba54a09",
   "metadata": {},
   "outputs": [],
   "source": [
    "import pymongo\n",
    "\n",
    "# set up pymongo connection\n",
    "\n",
    "# https://docs.mongodb.com/manual/reference/default-mongodb-port/\n",
    "\n",
    "conn = 'mongodb://localhost:27017'\n",
    "client = pymongo.MongoClient(conn)\n",
    "\n",
    "# declare database\n",
    "db = client.jj_earnings\n",
    "\n",
    "# declare the collection\n",
    "shifts = db.shifts\n",
    "test = db.test\n",
    "\n",
    "current_wage = 9.5 \n",
    "chipotle_wage = 16.5\n",
    "#-------------------------------------------------------------------------------------------------------------------------#\n",
    "\n",
    "\n",
    "def get_date():\n",
    "    # gets the date in a no frills string, formats to desired output for later use\n",
    "    # returns variable \"date_of_shift\"\n",
    "    # breaks if date != 6 characters\n",
    "    print(\"Use 2 characters for the Day, Month, and Year.\")\n",
    "    print(\"EXAMPLE: 01/15/2022 = 011522\")\n",
    "    print(\"\")\n",
    "    \n",
    "    date_string = input(\"Please input date of shift. \")\n",
    "    \n",
    "    if len(date_string) != 6:\n",
    "        raise ValueError ('Date Incorrect Format')\n",
    "    else:\n",
    "        month = date_string[slice(0,2)]\n",
    "        day = date_string[slice(2,4)]\n",
    "        year = date_string[slice(4,6)]\n",
    "        date_of_shift = f'{month}-{day}-{year}'\n",
    "        return date_of_shift\n",
    "\n",
    "#-------------------------------------------------------------------------------------------------------------------------#\n",
    "\n",
    "def earnings_request():\n",
    "    \n",
    "    # asks for information and returns the date & dict of aggregated values\n",
    "    wage = current_wage\n",
    "    date_of_shift = get_date()\n",
    "    print(\"\")\n",
    "    hours = float(input(\"Hours worked? \"))\n",
    "    if hours == 0:\n",
    "        raise ValueError('something something, div by zero is bad.')\n",
    "    else:\n",
    "    \n",
    "        tips = float(input(\"Tips? \"))\n",
    "        start_mileage = input(\"What was the starting mileage? \")\n",
    "        end_mileage = input(\"What was the ending mileage? \")\n",
    "        start_mileage = int(start_mileage)\n",
    "        end_mileage = int(end_mileage)\n",
    "        delta_mileage = end_mileage - start_mileage\n",
    "\n",
    "\n",
    "        earnings = round(((wage * hours) + tips),2)\n",
    "        effective_wage = round((earnings / hours), 2)\n",
    "    \n",
    "        old_job_earnings = round((chipotle_wage * hours),2)\n",
    "        old_job_diff = old_job_earnings - earnings\n",
    "\n",
    "        entry = {\n",
    "        \"date_of_shift\":date_of_shift,\n",
    "        \"tips\": tips,\n",
    "        \"hours\":hours,\n",
    "        \"earnings\":earnings,\n",
    "        \"effective_wage\":effective_wage,\n",
    "        \"old_job_earnings\":old_job_earnings,\n",
    "        \"old_job_comparison\":old_job_diff,\n",
    "        \"starting_mileage\": start_mileage,\n",
    "        \"ending_mileage\": end_mileage,\n",
    "        \"change_in_mileage\": delta_mileage,\n",
    "        \n",
    "        }\n",
    "\n",
    "\n",
    "        return entry\n",
    "\n",
    "        \n",
    "#-------------------------------------------------------------------------------------------------------------------------#   return date_of_shift\n",
    "\n",
    "def main_function():\n",
    "\n",
    "    finished = 'n'\n",
    "\n",
    "    while finished != 'y':\n",
    "        value = True\n",
    "        while value == True:\n",
    "            try:\n",
    "                earnings_data = {}\n",
    "                shift_data = earnings_request()\n",
    "                \n",
    "                earnings_data = shift_data\n",
    "                print('--------------------------------------')\n",
    "                print('Please review info, enter \"cancel\" to restart. ')\n",
    "                finished = input('Done? (y/n) ').lower()\n",
    "                print('--------------------------------------')\n",
    "                if finished == 'cancel':\n",
    "                    raise ValueError\n",
    "                else:\n",
    "\n",
    "                    print('Sending document to jj_earnings in MongoDB...')\n",
    "                    print('--------------------------------------')\n",
    "                    print()\n",
    "                    shifts.insert_one(earnings_data)\n",
    "                    value = False\n",
    "                \n",
    "            except ValueError:\n",
    "                print('')\n",
    "                print('====================================')\n",
    "                print(\"Incorrect Data Entry, try that again.\")\n",
    "                print('====================================')\n",
    "                print('')\n",
    "#-------------------------------------------------------------------------------------------------------------------------#\n"
   ]
  },
  {
   "cell_type": "markdown",
   "id": "bfcca44b",
   "metadata": {},
   "source": [
    "------------------------------------------------------------------"
   ]
  },
  {
   "cell_type": "code",
   "execution_count": 2,
   "id": "1ecf7577",
   "metadata": {},
   "outputs": [
    {
     "name": "stdout",
     "output_type": "stream",
     "text": [
      "Use 2 characters for the Day, Month, and Year.\n",
      "EXAMPLE: 01/15/2022 = 011522\n",
      "\n",
      "Please input date of shift. 011422\n",
      "\n",
      "Hours worked? 8.5\n",
      "Tips? 99\n",
      "What was the starting mileage? 75575\n",
      "What was the ending mileage? 75640\n",
      "--------------------------------------\n",
      "Please review info, enter \"cancel\" to restart. \n",
      "Done? (y/n) y\n",
      "--------------------------------------\n",
      "Sending document to jj_earnings in MongoDB...\n",
      "--------------------------------------\n",
      "\n"
     ]
    }
   ],
   "source": [
    "main_function()"
   ]
  },
  {
   "cell_type": "markdown",
   "id": "39e5afd3",
   "metadata": {},
   "source": [
    "now that we have a method of capturing the information, we need to send it to a database\n",
    "\n",
    "NOTE - we need a method of catching the data entries should they not match the desired input\n",
    "eg - date having only one character input vs the full six.\n",
    "\n",
    "implement more anti-breaking  / NaN data entry methods and fail-safes to save time should errors arise.\n",
    "\n",
    "\n",
    "make a method to querydb, select doc and edit information before saving over."
   ]
  },
  {
   "cell_type": "code",
   "execution_count": null,
   "id": "712eb169",
   "metadata": {},
   "outputs": [],
   "source": []
  }
 ],
 "metadata": {
  "kernelspec": {
   "display_name": "Python 3",
   "language": "python",
   "name": "python3"
  },
  "language_info": {
   "codemirror_mode": {
    "name": "ipython",
    "version": 3
   },
   "file_extension": ".py",
   "mimetype": "text/x-python",
   "name": "python",
   "nbconvert_exporter": "python",
   "pygments_lexer": "ipython3",
   "version": "3.8.8"
  }
 },
 "nbformat": 4,
 "nbformat_minor": 5
}
