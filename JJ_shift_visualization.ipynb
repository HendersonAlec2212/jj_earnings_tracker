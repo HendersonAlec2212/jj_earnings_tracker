{
 "cells": [
  {
   "cell_type": "markdown",
   "id": "ee81488b",
   "metadata": {},
   "source": [
    "# Thoughts / Plan / Goals"
   ]
  },
  {
   "cell_type": "markdown",
   "id": "05d0c29b",
   "metadata": {},
   "source": [
    "- read the information from the mongo db JJ_earnings_db\n",
    "> note: each shift is one independant document (dictionary)\n",
    "- determine means of assining db that then references the collection and assigns variables to database,  collections, and documents\n",
    "\n",
    "\n",
    "\n",
    "- pull all documents into a list or dictionary?\n",
    "- assign to dataframe\n",
    "- transpose for readability if needed\n",
    "- plot to graph with either matplot or plotly using JavaScript \n",
    "\n",
    "- export newly assembled dataframe to a CSV?"
   ]
  },
  {
   "cell_type": "markdown",
   "id": "57e33303",
   "metadata": {},
   "source": [
    "---------------------------"
   ]
  },
  {
   "cell_type": "code",
   "execution_count": 2,
   "id": "96482e15",
   "metadata": {},
   "outputs": [],
   "source": [
    "import os\n",
    "import pandas as pd\n",
    "import pymongo"
   ]
  },
  {
   "cell_type": "code",
   "execution_count": null,
   "id": "294b1df2",
   "metadata": {},
   "outputs": [],
   "source": []
  },
  {
   "cell_type": "code",
   "execution_count": 3,
   "id": "a7e5de77",
   "metadata": {},
   "outputs": [],
   "source": [
    "# set up pymongo connection\n",
    "\n",
    "# https://docs.mongodb.com/manual/reference/default-mongodb-port/\n",
    "\n",
    "conn = 'mongodb://localhost:27017'\n",
    "client = pymongo.MongoClient(conn)\n",
    "\n",
    "# # declare database\n",
    "db = client.JJ_earnings\n",
    "\n",
    "# # declare the collections\n",
    "collection = db.shifts\n",
    "#### Is it possible to set up the variables for the databse, collection and documents \n",
    "# so that they can be filled in by information attained fromt the Query_database()?\n",
    "\n",
    "\n",
    "# assign all DB names to list\n",
    "dblist = client.list_database_names()\n",
    "\n",
    "shift_list = []"
   ]
  },
  {
   "cell_type": "code",
   "execution_count": 4,
   "id": "92099c33",
   "metadata": {},
   "outputs": [],
   "source": [
    "def dataframe_transpose(dataframe):\n",
    "    #transpose the dataframe ( flip index and columns)\n",
    "    df = pd.DataFrame(dataframe)\n",
    "    transposed_df = df.T\n",
    "    transposed_df\n",
    "    return transposed_df\n",
    "#-------------------------------------------------------------------------------------------------------------------------#\n",
    "def df_to_dict(df):\n",
    "    # Change dataframe into dictionary\n",
    "    df = df.to_dict()\n",
    "    return df\n",
    "#-------------------------------------------------------------------------------------------------------------------------#\n",
    "# https://www.w3schools.com/python/python_mongodb_query.asp\n",
    "\n",
    "def query_database():\n",
    "    # pull number of elements in list, display for user, request name of DB to pull\n",
    "    # return the database as variable \"db_query\"\n",
    "    list_len = len(dblist)\n",
    "    print(f'{list_len} Databases Found ... ')\n",
    "    print()\n",
    "    for name in dblist:\n",
    "        print(f'{name}')\n",
    "        print()\n",
    "    print('------------------------')\n",
    "\n",
    "    db_query = input(\"Which Database would you like to load? Use exact spelling.. \")\n",
    "    if db_query not in dblist:\n",
    "        raise ValueError(\"Database Not Found.\")\n",
    "    else:\n",
    "        print()\n",
    "        print(f'Database \"{db_query}\" Successfully Loaded')\n",
    "        return db_query\n",
    "    \n",
    "#-------------------------------------------------------------------------------------------------------------------------#\n",
    "def database_pull():\n",
    "    database = query_database()\n",
    "    # declare database\n",
    "    db = client.database\n",
    "\n",
    "    # declare the collections\n",
    "    \n",
    "    documents = collection.find({}, \\\n",
    "    {\n",
    "        \"_id\":0,\n",
    "        \"date_of_shift\":1,\n",
    "        \"tips\": 1,\n",
    "        \"hours\":1,\n",
    "        \"earnings\":1,\n",
    "        \"effective_wage\":1,\n",
    "        \"old_job_comparison\":1,\n",
    "        \"starting_mileage\": 1,\n",
    "        \"ending_mileage\": 1,\n",
    "        \"change_in_mileage\": 1,\n",
    "    })\n",
    "    for doc in documents:\n",
    "        print(doc)\n",
    "        shift_list.append(doc)\n",
    "        \n",
    "#-------------------------------------------------------------------------------------------------------------------------#\n",
    "\n",
    "\n",
    "\n",
    "#-------------------------------------------------------------------------------------------------------------------------#\n",
    "\n",
    "\n",
    "\n",
    "#-------------------------------------------------------------------------------------------------------------------------#"
   ]
  },
  {
   "cell_type": "code",
   "execution_count": 5,
   "id": "bdead145",
   "metadata": {
    "scrolled": false
   },
   "outputs": [
    {
     "name": "stdout",
     "output_type": "stream",
     "text": [
      "6 Databases Found ... \n",
      "\n",
      "JJ_earnings\n",
      "\n",
      "admin\n",
      "\n",
      "commerce_db\n",
      "\n",
      "config\n",
      "\n",
      "local\n",
      "\n",
      "mars_app\n",
      "\n",
      "------------------------\n",
      "Which Database would you like to load? Use exact spelling.. JJ_earnings\n",
      "\n",
      "Database \"JJ_earnings\" Successfully Loaded\n",
      "{'date_of_shift': '12-31-21', 'tips': 41.0, 'hours': 7.75, 'earnings': 114.62, 'effective_wage': 14.79, 'old_job_comparison': -13.25, 'starting_mileage': 0.0, 'ending_mileage': 0.0, 'change_in_mileage': 0}\n",
      "{'date_of_shift': '01-01-22', 'tips': 45.0, 'hours': 6.0, 'earnings': 102.0, 'effective_wage': 17.0, 'old_job_comparison': 3.0, 'starting_mileage': 0.0, 'ending_mileage': 0.0, 'change_in_mileage': 0}\n",
      "{'date_of_shift': '01-02-22', 'tips': 71.0, 'hours': 10.2, 'earnings': 167.9, 'effective_wage': 16.46, 'old_job_comparison': -0.4, 'starting_mileage': 0, 'ending_mileage': 0, 'change_in_mileage': 0}\n"
     ]
    }
   ],
   "source": [
    "database_pull()"
   ]
  },
  {
   "cell_type": "code",
   "execution_count": 6,
   "id": "8bced3eb",
   "metadata": {},
   "outputs": [
    {
     "data": {
      "text/plain": [
       "[{'date_of_shift': '12-31-21',\n",
       "  'tips': 41.0,\n",
       "  'hours': 7.75,\n",
       "  'earnings': 114.62,\n",
       "  'effective_wage': 14.79,\n",
       "  'old_job_comparison': -13.25,\n",
       "  'starting_mileage': 0.0,\n",
       "  'ending_mileage': 0.0,\n",
       "  'change_in_mileage': 0},\n",
       " {'date_of_shift': '01-01-22',\n",
       "  'tips': 45.0,\n",
       "  'hours': 6.0,\n",
       "  'earnings': 102.0,\n",
       "  'effective_wage': 17.0,\n",
       "  'old_job_comparison': 3.0,\n",
       "  'starting_mileage': 0.0,\n",
       "  'ending_mileage': 0.0,\n",
       "  'change_in_mileage': 0},\n",
       " {'date_of_shift': '01-02-22',\n",
       "  'tips': 71.0,\n",
       "  'hours': 10.2,\n",
       "  'earnings': 167.9,\n",
       "  'effective_wage': 16.46,\n",
       "  'old_job_comparison': -0.4,\n",
       "  'starting_mileage': 0,\n",
       "  'ending_mileage': 0,\n",
       "  'change_in_mileage': 0}]"
      ]
     },
     "execution_count": 6,
     "metadata": {},
     "output_type": "execute_result"
    }
   ],
   "source": [
    "shift_list"
   ]
  },
  {
   "cell_type": "code",
   "execution_count": 7,
   "id": "c76a919d",
   "metadata": {},
   "outputs": [
    {
     "data": {
      "text/html": [
       "<div>\n",
       "<style scoped>\n",
       "    .dataframe tbody tr th:only-of-type {\n",
       "        vertical-align: middle;\n",
       "    }\n",
       "\n",
       "    .dataframe tbody tr th {\n",
       "        vertical-align: top;\n",
       "    }\n",
       "\n",
       "    .dataframe thead th {\n",
       "        text-align: right;\n",
       "    }\n",
       "</style>\n",
       "<table border=\"1\" class=\"dataframe\">\n",
       "  <thead>\n",
       "    <tr style=\"text-align: right;\">\n",
       "      <th></th>\n",
       "      <th>date_of_shift</th>\n",
       "      <th>tips</th>\n",
       "      <th>hours</th>\n",
       "      <th>earnings</th>\n",
       "      <th>effective_wage</th>\n",
       "      <th>old_job_comparison</th>\n",
       "      <th>starting_mileage</th>\n",
       "      <th>ending_mileage</th>\n",
       "      <th>change_in_mileage</th>\n",
       "    </tr>\n",
       "  </thead>\n",
       "  <tbody>\n",
       "    <tr>\n",
       "      <th>0</th>\n",
       "      <td>12-31-21</td>\n",
       "      <td>41.0</td>\n",
       "      <td>7.75</td>\n",
       "      <td>114.62</td>\n",
       "      <td>14.79</td>\n",
       "      <td>-13.25</td>\n",
       "      <td>0.0</td>\n",
       "      <td>0.0</td>\n",
       "      <td>0</td>\n",
       "    </tr>\n",
       "    <tr>\n",
       "      <th>1</th>\n",
       "      <td>01-01-22</td>\n",
       "      <td>45.0</td>\n",
       "      <td>6.00</td>\n",
       "      <td>102.00</td>\n",
       "      <td>17.00</td>\n",
       "      <td>3.00</td>\n",
       "      <td>0.0</td>\n",
       "      <td>0.0</td>\n",
       "      <td>0</td>\n",
       "    </tr>\n",
       "    <tr>\n",
       "      <th>2</th>\n",
       "      <td>01-02-22</td>\n",
       "      <td>71.0</td>\n",
       "      <td>10.20</td>\n",
       "      <td>167.90</td>\n",
       "      <td>16.46</td>\n",
       "      <td>-0.40</td>\n",
       "      <td>0.0</td>\n",
       "      <td>0.0</td>\n",
       "      <td>0</td>\n",
       "    </tr>\n",
       "  </tbody>\n",
       "</table>\n",
       "</div>"
      ],
      "text/plain": [
       "  date_of_shift  tips  hours  earnings  effective_wage  old_job_comparison  \\\n",
       "0      12-31-21  41.0   7.75    114.62           14.79              -13.25   \n",
       "1      01-01-22  45.0   6.00    102.00           17.00                3.00   \n",
       "2      01-02-22  71.0  10.20    167.90           16.46               -0.40   \n",
       "\n",
       "   starting_mileage  ending_mileage  change_in_mileage  \n",
       "0               0.0             0.0                  0  \n",
       "1               0.0             0.0                  0  \n",
       "2               0.0             0.0                  0  "
      ]
     },
     "execution_count": 7,
     "metadata": {},
     "output_type": "execute_result"
    }
   ],
   "source": [
    "x = pd.DataFrame(shift_list)\n",
    "x"
   ]
  },
  {
   "cell_type": "code",
   "execution_count": null,
   "id": "0e0ae6db",
   "metadata": {},
   "outputs": [],
   "source": []
  }
 ],
 "metadata": {
  "kernelspec": {
   "display_name": "Python 3",
   "language": "python",
   "name": "python3"
  },
  "language_info": {
   "codemirror_mode": {
    "name": "ipython",
    "version": 3
   },
   "file_extension": ".py",
   "mimetype": "text/x-python",
   "name": "python",
   "nbconvert_exporter": "python",
   "pygments_lexer": "ipython3",
   "version": "3.8.8"
  }
 },
 "nbformat": 4,
 "nbformat_minor": 5
}
