{
 "cells": [
  {
   "cell_type": "markdown",
   "id": "ee81488b",
   "metadata": {},
   "source": [
    "# Thoughts / Plan / Goals"
   ]
  },
  {
   "cell_type": "markdown",
   "id": "05d0c29b",
   "metadata": {},
   "source": [
    "- read the information from the mongo db JJ_earnings_db\n",
    "> note: each shift is one independant document (dictionary)\n",
    "- determine means of assining db that then references the collection and assigns variables to database,  collections, and documents\n",
    "\n",
    "\n",
    "\n",
    "- pull all documents into a list or dictionary?\n",
    "- assign to dataframe\n",
    "- transpose for readability if needed\n",
    "- plot to graph with either matplot or plotly using JavaScript \n",
    "\n",
    "- export newly assembled dataframe to a CSV?"
   ]
  },
  {
   "cell_type": "markdown",
   "id": "57e33303",
   "metadata": {},
   "source": [
    "---------------------------"
   ]
  },
  {
   "cell_type": "code",
   "execution_count": 1,
   "id": "96482e15",
   "metadata": {},
   "outputs": [
    {
     "data": {
      "text/plain": [
       "'C:\\\\Users\\\\Alec\\\\Documents\\\\Programming_Resources\\\\Boot_Camp\\\\repos\\\\jj_earnings_tracker'"
      ]
     },
     "execution_count": 1,
     "metadata": {},
     "output_type": "execute_result"
    }
   ],
   "source": [
    "import os\n",
    "import pandas as pd\n",
    "import pymongo\n",
    "import matplotlib.pyplot as plt\n",
    "os.getcwd()"
   ]
  },
  {
   "cell_type": "code",
   "execution_count": 2,
   "id": "a7e5de77",
   "metadata": {},
   "outputs": [],
   "source": [
    "# set up pymongo connection\n",
    "\n",
    "# https://docs.mongodb.com/manual/reference/default-mongodb-port/\n",
    "\n",
    "conn = 'mongodb://localhost:27017'\n",
    "client = pymongo.MongoClient(conn)\n",
    "\n",
    "# # declare database\n",
    "db = client.jj_earnings\n",
    "\n",
    "# # declare the collections\n",
    "collection = db.shifts\n",
    "#### Is it possible to set up the variables for the databse, collection and documents \n",
    "# so that they can be filled in by information attained fromt the Query_database()?\n",
    "\n",
    "\n",
    "# assign all DB names to list\n",
    "dblist = client.list_database_names()\n"
   ]
  },
  {
   "cell_type": "code",
   "execution_count": 28,
   "id": "92099c33",
   "metadata": {},
   "outputs": [],
   "source": [
    "def dataframe_transpose(dataframe):\n",
    "    #transpose the dataframe ( flip index and columns)\n",
    "    df = pd.DataFrame(dataframe)\n",
    "    transposed_df = df.T\n",
    "    transposed_df\n",
    "    return transposed_df\n",
    "#-------------------------------------------------------------------------------------------------------------------------#\n",
    "def df_to_dict(df):\n",
    "    # Change dataframe into dictionary\n",
    "    df = df.to_dict()\n",
    "    return df\n",
    "#-------------------------------------------------------------------------------------------------------------------------#\n",
    "def set_Index(df, column):\n",
    "    df = df.set_index(column)\n",
    "    return df\n",
    "\n",
    "#-------------------------------------------------------------------------------------------------------------------------#\n",
    "# https://www.w3schools.com/python/python_mongodb_query.asp\n",
    "\n",
    "def query_database():\n",
    "    # pull number of elements in list, display for user, request name of DB to pull\n",
    "    # return the database as variable \"db_query\"\n",
    "    list_len = len(dblist)\n",
    "    print(f'{list_len} Databases Found ... ')\n",
    "    print()\n",
    "    for name in dblist:\n",
    "        print(f'{name}')\n",
    "        print()\n",
    "    print('------------------------')\n",
    "\n",
    "    db_query = input(\"Which Database would you like to load? Use exact spelling.. \")\n",
    "    if db_query not in dblist:\n",
    "        raise ValueError(\"Database Not Found.\")\n",
    "    else:\n",
    "        print()\n",
    "        print(f'Database \"{db_query}\" Successfully Loaded..')\n",
    "        print()\n",
    "        return db_query\n",
    "    \n",
    "#-------------------------------------------------------------------------------------------------------------------------#\n",
    "def database_pull():\n",
    "    # set a list to clear per call\n",
    "    # assign data base, then collection based on return from query_database()\n",
    "    # data specific to jj_earnings is pulled via line 53, and a list of the documents is returned\n",
    "    \n",
    "    doc_list = []\n",
    "    database = query_database()\n",
    "    # declare database\n",
    "    db = client.database\n",
    "\n",
    "    # declare the collections\n",
    "    \n",
    "    documents = collection.find({}, \\\n",
    "    {\n",
    "        \"_id\":0,\n",
    "        \"date_of_shift\":1,\n",
    "        \"tips\": 1,\n",
    "        \"hours\":1,\n",
    "        \"earnings\":1,\n",
    "        \"effective_wage\":1,\n",
    "        \"old_job_earnings\":1,\n",
    "        \"old_job_comparison\":1,\n",
    "        \"starting_mileage\": 1,\n",
    "        \"ending_mileage\": 1,\n",
    "        \"change_in_mileage\": 1,\n",
    "    })\n",
    "    for doc in documents:\n",
    "#         print(doc)\n",
    "        doc_list.append(doc)\n",
    "    \n",
    "    return doc_list\n",
    "\n",
    "\n",
    "\n",
    "#-------------------------------------------------------------------------------------------------------------------------#\n",
    "def database_pull_no_query(name):\n",
    "    # set a list to clear per call\n",
    "    # assign data base, then collection based on positional argument\n",
    "    \n",
    "    doc_list = []\n",
    "    database = f'{name}'\n",
    "    # declare database\n",
    "    db = client.database\n",
    "\n",
    "    # declare the collections\n",
    "    \n",
    "    documents = collection.find({}, \\\n",
    "    {\n",
    "        \"_id\":0,\n",
    "        \"date_of_shift\":1,\n",
    "        \"tips\": 1,\n",
    "        \"hours\":1,\n",
    "        \"earnings\":1,\n",
    "        \"effective_wage\":1,\n",
    "        \"old_job_earnings\":1,\n",
    "        \"old_job_comparison\":1,\n",
    "        \"starting_mileage\": 1,\n",
    "        \"ending_mileage\": 1,\n",
    "        \"change_in_mileage\": 1,\n",
    "    })\n",
    "    for doc in documents:\n",
    "#         print(doc)\n",
    "        doc_list.append(doc)\n",
    "    \n",
    "    return doc_list\n",
    "#-------------------------------------------------------------------------------------------------------------------------#\n",
    "\n",
    "def plot_earnings(df_name):\n",
    "    # set up plot(s)\n",
    "    fig = plt.figure(figsize = (19.20,10.80))\n",
    "\n",
    "    # ------------------------------------ JJ wage ------------------------------------ #\n",
    "\n",
    "    # set x & y values\n",
    "    x_date = df_name['date_of_shift']\n",
    "    y_jj_earnings = df_name['earnings']\n",
    "\n",
    "    plt.plot(x_date,y_jj_earnings \\\n",
    "             ,label = \"Jimmy John's Earnings\"\n",
    "             ,marker = \"o\"\n",
    "             ,color = \"b\"\n",
    "            )\n",
    "\n",
    "\n",
    "    # ------------------------------------ Chipotle wage ------------------------------------ #\n",
    "\n",
    "    y_chipotle_earnings = df_name['old_job_earnings']\n",
    "\n",
    "\n",
    "    plt.plot(x_date, y_chipotle_earnings \\\n",
    "             ,label='Chipotle Earnings'\n",
    "             ,marker='o'\n",
    "             ,color='r'\n",
    "             ,linestyle='--'\n",
    "            )\n",
    "\n",
    "    # ------------------------------------ Display Plot(s) ------------------------------------ #\n",
    "    plt.title('Earnings per Shift')\n",
    "    plt.xlabel('Date of Shift')\n",
    "    plt.ylabel('Earnings in $USD')\n",
    "    plt.legend()\n",
    "    plt.plot()\n",
    "    plt.grid(True)\n",
    "\n",
    "    plt.show()\n",
    "\n",
    "#-------------------------------------------------------------------------------------------------------------------------#\n",
    "\n",
    "def display_and_save(name):\n",
    "    dataframe = pd.DataFrame(database_pull_no_query(name))\n",
    "   \n",
    "\n",
    "    dataframe.to_csv(f'{name}.csv', index=False)\n",
    "    print(\"Saving Dataframe to CSV ... \")\n",
    "    print()\n",
    "    return dataframe\n",
    "\n",
    "#-------------------------------------------------------------------------------------------------------------------------#"
   ]
  },
  {
   "cell_type": "code",
   "execution_count": 29,
   "id": "460111a9",
   "metadata": {},
   "outputs": [
    {
     "name": "stdout",
     "output_type": "stream",
     "text": [
      "6 Databases Found ... \n",
      "\n",
      "admin\n",
      "\n",
      "commerce_db\n",
      "\n",
      "config\n",
      "\n",
      "jj_earnings\n",
      "\n",
      "local\n",
      "\n",
      "mars_app\n",
      "\n",
      "------------------------\n",
      "Which Database would you like to load? Use exact spelling.. jj_earnings\n",
      "\n",
      "Database \"jj_earnings\" Successfully Loaded..\n",
      "\n"
     ]
    },
    {
     "data": {
      "image/png": "[encoded data removed]",
      "text/plain": [
       "<Figure size 1382.4x777.6 with 1 Axes>"
      ]
     },
     "metadata": {
      "needs_background": "light"
     },
     "output_type": "display_data"
    }
   ],
   "source": [
    "class show_me_the_money:\n",
    "    df = pd.DataFrame(database_pull())\n",
    "    \n",
    "    \n",
    "    plot_earnings(df)\n",
    "    "
   ]
  },
  {
   "cell_type": "code",
   "execution_count": 31,
   "id": "f72c74a7",
   "metadata": {},
   "outputs": [
    {
     "name": "stdout",
     "output_type": "stream",
     "text": [
      "Saving Dataframe to CSV ... \n",
      "\n"
     ]
    },
    {
     "data": {
      "text/html": [
       "<div>\n",
       "<style scoped>\n",
       "    .dataframe tbody tr th:only-of-type {\n",
       "        vertical-align: middle;\n",
       "    }\n",
       "\n",
       "    .dataframe tbody tr th {\n",
       "        vertical-align: top;\n",
       "    }\n",
       "\n",
       "    .dataframe thead th {\n",
       "        text-align: right;\n",
       "    }\n",
       "</style>\n",
       "<table border=\"1\" class=\"dataframe\">\n",
       "  <thead>\n",
       "    <tr style=\"text-align: right;\">\n",
       "      <th></th>\n",
       "      <th>date_of_shift</th>\n",
       "      <th>tips</th>\n",
       "      <th>hours</th>\n",
       "      <th>earnings</th>\n",
       "      <th>effective_wage</th>\n",
       "      <th>old_job_earnings</th>\n",
       "      <th>old_job_comparison</th>\n",
       "      <th>starting_mileage</th>\n",
       "      <th>ending_mileage</th>\n",
       "      <th>change_in_mileage</th>\n",
       "    </tr>\n",
       "  </thead>\n",
       "  <tbody>\n",
       "    <tr>\n",
       "      <th>0</th>\n",
       "      <td>12-31-21</td>\n",
       "      <td>41.0</td>\n",
       "      <td>7.75</td>\n",
       "      <td>114.62</td>\n",
       "      <td>14.79</td>\n",
       "      <td>127.88</td>\n",
       "      <td>-13.25</td>\n",
       "      <td>0</td>\n",
       "      <td>0</td>\n",
       "      <td>0</td>\n",
       "    </tr>\n",
       "    <tr>\n",
       "      <th>1</th>\n",
       "      <td>01-01-22</td>\n",
       "      <td>45.0</td>\n",
       "      <td>6.00</td>\n",
       "      <td>102.00</td>\n",
       "      <td>17.00</td>\n",
       "      <td>99.00</td>\n",
       "      <td>3.00</td>\n",
       "      <td>0</td>\n",
       "      <td>0</td>\n",
       "      <td>0</td>\n",
       "    </tr>\n",
       "    <tr>\n",
       "      <th>2</th>\n",
       "      <td>01-02-22</td>\n",
       "      <td>71.0</td>\n",
       "      <td>10.20</td>\n",
       "      <td>167.90</td>\n",
       "      <td>16.46</td>\n",
       "      <td>168.30</td>\n",
       "      <td>-0.40</td>\n",
       "      <td>0</td>\n",
       "      <td>0</td>\n",
       "      <td>0</td>\n",
       "    </tr>\n",
       "    <tr>\n",
       "      <th>3</th>\n",
       "      <td>01-05-22</td>\n",
       "      <td>71.0</td>\n",
       "      <td>7.00</td>\n",
       "      <td>137.50</td>\n",
       "      <td>19.64</td>\n",
       "      <td>115.50</td>\n",
       "      <td>22.00</td>\n",
       "      <td>75190</td>\n",
       "      <td>75245</td>\n",
       "      <td>55</td>\n",
       "    </tr>\n",
       "  </tbody>\n",
       "</table>\n",
       "</div>"
      ],
      "text/plain": [
       "  date_of_shift  tips  hours  earnings  effective_wage  old_job_earnings  \\\n",
       "0      12-31-21  41.0   7.75    114.62           14.79            127.88   \n",
       "1      01-01-22  45.0   6.00    102.00           17.00             99.00   \n",
       "2      01-02-22  71.0  10.20    167.90           16.46            168.30   \n",
       "3      01-05-22  71.0   7.00    137.50           19.64            115.50   \n",
       "\n",
       "   old_job_comparison  starting_mileage  ending_mileage  change_in_mileage  \n",
       "0              -13.25                 0               0                  0  \n",
       "1                3.00                 0               0                  0  \n",
       "2               -0.40                 0               0                  0  \n",
       "3               22.00             75190           75245                 55  "
      ]
     },
     "execution_count": 31,
     "metadata": {},
     "output_type": "execute_result"
    }
   ],
   "source": [
    "display_and_save(\"jj_earnings\")"
   ]
  },
  {
   "cell_type": "code",
   "execution_count": null,
   "id": "c7cbe1b4",
   "metadata": {},
   "outputs": [],
   "source": [
    "dataframe = pd.DataFrame(database_pull())"
   ]
  },
  {
   "cell_type": "code",
   "execution_count": null,
   "id": "6eacf0e7",
   "metadata": {},
   "outputs": [],
   "source": [
    "dataframe.to_csv(f'{dataframe}.csv', index=False)"
   ]
  },
  {
   "cell_type": "code",
   "execution_count": null,
   "id": "376f2f42",
   "metadata": {},
   "outputs": [],
   "source": []
  },
  {
   "cell_type": "code",
   "execution_count": null,
   "id": "fc6bd9d3",
   "metadata": {},
   "outputs": [],
   "source": [
    "jj_date_index = set_Index(earnings_df, \"date_of_shift\")\n",
    "jj_date_index"
   ]
  },
  {
   "cell_type": "code",
   "execution_count": null,
   "id": "831754a6",
   "metadata": {},
   "outputs": [],
   "source": [
    "jj_date_index.describe()"
   ]
  },
  {
   "cell_type": "code",
   "execution_count": null,
   "id": "bd32e215",
   "metadata": {},
   "outputs": [],
   "source": []
  },
  {
   "cell_type": "code",
   "execution_count": 16,
   "id": "bad6018d",
   "metadata": {},
   "outputs": [
    {
     "name": "stdout",
     "output_type": "stream",
     "text": [
      "6 Databases Found ... \n",
      "\n",
      "admin\n",
      "\n",
      "commerce_db\n",
      "\n",
      "config\n",
      "\n",
      "jj_earnings\n",
      "\n",
      "local\n",
      "\n",
      "mars_app\n",
      "\n",
      "------------------------\n",
      "Which Database would you like to load? Use exact spelling.. jj_earnings\n",
      "\n",
      "Database \"jj_earnings\" Successfully Loaded..\n",
      "\n"
     ]
    },
    {
     "data": {
      "text/plain": [
       "([{'date_of_shift': '12-31-21',\n",
       "   'tips': 41.0,\n",
       "   'hours': 7.75,\n",
       "   'earnings': 114.62,\n",
       "   'effective_wage': 14.79,\n",
       "   'old_job_earnings': 127.88,\n",
       "   'old_job_comparison': -13.25,\n",
       "   'starting_mileage': 0,\n",
       "   'ending_mileage': 0,\n",
       "   'change_in_mileage': 0},\n",
       "  {'date_of_shift': '01-01-22',\n",
       "   'tips': 45.0,\n",
       "   'hours': 6.0,\n",
       "   'earnings': 102.0,\n",
       "   'effective_wage': 17.0,\n",
       "   'old_job_earnings': 99.0,\n",
       "   'old_job_comparison': 3.0,\n",
       "   'starting_mileage': 0,\n",
       "   'ending_mileage': 0,\n",
       "   'change_in_mileage': 0},\n",
       "  {'date_of_shift': '01-02-22',\n",
       "   'tips': 71.0,\n",
       "   'hours': 10.2,\n",
       "   'earnings': 167.9,\n",
       "   'effective_wage': 16.46,\n",
       "   'old_job_earnings': 168.3,\n",
       "   'old_job_comparison': -0.4,\n",
       "   'starting_mileage': 0,\n",
       "   'ending_mileage': 0,\n",
       "   'change_in_mileage': 0},\n",
       "  {'date_of_shift': '01-05-22',\n",
       "   'tips': 71.0,\n",
       "   'hours': 7.0,\n",
       "   'earnings': 137.5,\n",
       "   'effective_wage': 19.64,\n",
       "   'old_job_earnings': 115.5,\n",
       "   'old_job_comparison': 22.0,\n",
       "   'starting_mileage': 75190,\n",
       "   'ending_mileage': 75245,\n",
       "   'change_in_mileage': 55}],\n",
       " 'jj_earnings')"
      ]
     },
     "execution_count": 16,
     "metadata": {},
     "output_type": "execute_result"
    }
   ],
   "source": [
    "database_pull()"
   ]
  },
  {
   "cell_type": "code",
   "execution_count": null,
   "id": "aec52557",
   "metadata": {},
   "outputs": [],
   "source": []
  },
  {
   "cell_type": "code",
   "execution_count": null,
   "id": "9ef5edf2",
   "metadata": {},
   "outputs": [],
   "source": []
  },
  {
   "cell_type": "code",
   "execution_count": null,
   "id": "dca8886c",
   "metadata": {},
   "outputs": [],
   "source": []
  },
  {
   "cell_type": "code",
   "execution_count": null,
   "id": "a74f595d",
   "metadata": {},
   "outputs": [],
   "source": []
  },
  {
   "cell_type": "markdown",
   "id": "364456e7",
   "metadata": {},
   "source": [
    "display DBs, then after db is chosen display keys, ask which to view in dataframe\n",
    "maybe have an inclusion/exclusion request. b/c sometimes you want all except 1 or 2 entries.\n",
    "\n",
    "maybe looping input of 1 or 0 thats pushed to list, then list elements are added into find values?\n",
    "\n",
    "\"all\" should do a complete loop minus the __id key.\n",
    "\n",
    "convert return from find statement to pandas df\n",
    "\n",
    "ask, want to save? yes-> request file name, save then display dataframe | no-> display dataframe\n"
   ]
  },
  {
   "cell_type": "markdown",
   "id": "5ad30615",
   "metadata": {},
   "source": [
    "reshape functions to pull docs, add to list, display and request which info is desired\n",
    "\n",
    "double while statement?\n",
    "\n",
    " then build a DF/find statement out of the desired info and display a pandas DF from said information\n",
    " \n",
    " have graphong function to request x / y values using name_of_df['column']\n",
    " ask for labels, colors, marker and line styles.\n",
    " plot the information\n",
    " \n",
    " consider multi plot for displaying all desired info comparisons at once, could be fun."
   ]
  }
 ],
 "metadata": {
  "kernelspec": {
   "display_name": "Python 3",
   "language": "python",
   "name": "python3"
  },
  "language_info": {
   "codemirror_mode": {
    "name": "ipython",
    "version": 3
   },
   "file_extension": ".py",
   "mimetype": "text/x-python",
   "name": "python",
   "nbconvert_exporter": "python",
   "pygments_lexer": "ipython3",
   "version": "3.8.8"
  }
 },
 "nbformat": 4,
 "nbformat_minor": 5
}
