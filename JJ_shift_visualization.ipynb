{
 "cells": [
  {
   "cell_type": "markdown",
   "id": "ee81488b",
   "metadata": {},
   "source": [
    "# Thoughts / Plan / Goals"
   ]
  },
  {
   "cell_type": "markdown",
   "id": "05d0c29b",
   "metadata": {},
   "source": [
    "- read the information from the mongo db JJ_earnings_db\n",
    "> note: each shift is one independant document (dictionary)\n",
    "- determine means of assining db that then references the collection and assigns variables to database,  collections, and documents\n",
    "\n",
    "\n",
    "\n",
    "- pull all documents into a list or dictionary?\n",
    "- assign to dataframe\n",
    "- transpose for readability if needed\n",
    "- plot to graph with either matplot or plotly using JavaScript \n",
    "\n",
    "- export newly assembled dataframe to a CSV?"
   ]
  },
  {
   "cell_type": "markdown",
   "id": "57e33303",
   "metadata": {},
   "source": [
    "---------------------------"
   ]
  },
  {
   "cell_type": "code",
   "execution_count": 1,
   "id": "96482e15",
   "metadata": {},
   "outputs": [
    {
     "data": {
      "text/plain": [
       "'C:\\\\Users\\\\Alec\\\\Documents\\\\Programming_Resources\\\\Boot_Camp\\\\personal_projects\\\\jj_earnings_tracker_LOCAL'"
      ]
     },
     "execution_count": 1,
     "metadata": {},
     "output_type": "execute_result"
    }
   ],
   "source": [
    "import os\n",
    "import pandas as pd\n",
    "import pymongo\n",
    "import matplotlib.pyplot as plt\n",
    "os.getcwd()"
   ]
  },
  {
   "cell_type": "code",
   "execution_count": 2,
   "id": "a7e5de77",
   "metadata": {},
   "outputs": [],
   "source": [
    "# set up pymongo connection\n",
    "\n",
    "# https://docs.mongodb.com/manual/reference/default-mongodb-port/\n",
    "\n",
    "conn = 'mongodb://localhost:27017'\n",
    "client = pymongo.MongoClient(conn)\n",
    "\n",
    "# # declare database\n",
    "db = client.jj_earnings\n",
    "\n",
    "# # declare the collections\n",
    "collection = db.shifts\n",
    "#### Is it possible to set up the variables for the databse, collection and documents \n",
    "# so that they can be filled in by information attained fromt the Query_database()?\n",
    "\n",
    "\n",
    "# assign all DB names to list\n",
    "dblist = client.list_database_names()\n"
   ]
  },
  {
   "cell_type": "code",
   "execution_count": 3,
   "id": "92099c33",
   "metadata": {},
   "outputs": [],
   "source": [
    "def dataframe_transpose(dataframe):\n",
    "    #transpose the dataframe ( flip index and columns)\n",
    "    df = pd.DataFrame(dataframe)\n",
    "    transposed_df = df.T\n",
    "    transposed_df\n",
    "    return transposed_df\n",
    "#-------------------------------------------------------------------------------------------------------------------------#\n",
    "def df_to_dict(df):\n",
    "    # Change dataframe into dictionary\n",
    "    df = df.to_dict()\n",
    "    return df\n",
    "#-------------------------------------------------------------------------------------------------------------------------#\n",
    "def set_Index(df, column):\n",
    "    df = df.set_index(column)\n",
    "    return df\n",
    "\n",
    "#-------------------------------------------------------------------------------------------------------------------------#\n",
    "# https://www.w3schools.com/python/python_mongodb_query.asp\n",
    "\n",
    "def query_database():\n",
    "    # pull number of elements in list, display for user, request name of DB to pull\n",
    "    # return the database as variable \"db_query\"\n",
    "    list_len = len(dblist)\n",
    "    print(f'{list_len} Databases Found ... ')\n",
    "    print()\n",
    "    for name in dblist:\n",
    "        print(f'{name}')\n",
    "        print()\n",
    "    print('------------------------')\n",
    "\n",
    "    db_query = input(\"Which Database would you like to load? Use exact spelling.. \")\n",
    "    if db_query not in dblist:\n",
    "        raise ValueError(\"Database Not Found.\")\n",
    "    else:\n",
    "        print()\n",
    "        print(f'Database \"{db_query}\" Successfully Loaded')\n",
    "        print()\n",
    "        return db_query\n",
    "    \n",
    "#-------------------------------------------------------------------------------------------------------------------------#\n",
    "def database_pull():\n",
    "    # set a list to clear per call\n",
    "    # assign data base, then collection based on return from query_database()\n",
    "    # data specific to jj_earnings is pulled via line 53, and a list of the documents is returned\n",
    "    \n",
    "    doc_list = []\n",
    "    database = query_database()\n",
    "    # declare database\n",
    "    db = client.database\n",
    "\n",
    "    # declare the collections\n",
    "    \n",
    "    documents = collection.find({}, \\\n",
    "    {\n",
    "        \"_id\":0,\n",
    "        \"date_of_shift\":1,\n",
    "        \"tips\": 1,\n",
    "        \"hours\":1,\n",
    "        \"earnings\":1,\n",
    "        \"effective_wage\":1,\n",
    "        \"old_job_earnings\":1,\n",
    "        \"old_job_comparison\":1,\n",
    "        \"starting_mileage\": 1,\n",
    "        \"ending_mileage\": 1,\n",
    "        \"change_in_mileage\": 1,\n",
    "    })\n",
    "    for doc in documents:\n",
    "        print(doc)\n",
    "        doc_list.append(doc)\n",
    "    return doc_list\n",
    "    \n",
    "#-------------------------------------------------------------------------------------------------------------------------#\n",
    "\n",
    "def plot_earnings(df_name):\n",
    "    # set up plot(s)\n",
    "    fig = plt.figure(figsize = (19.20,10.80))\n",
    "\n",
    "    # ------------------------------------ JJ wage ------------------------------------ #\n",
    "\n",
    "    # set x & y values\n",
    "    x_date = df_name['date_of_shift']\n",
    "    y_jj_earnings = df_name['earnings']\n",
    "\n",
    "    plt.plot(x_date,y_jj_earnings \\\n",
    "             ,label = \"Jimmy John's Earnings\"\n",
    "             ,marker = \"o\"\n",
    "             ,color = \"b\"\n",
    "            )\n",
    "\n",
    "\n",
    "    # ------------------------------------ Chipotle wage ------------------------------------ #\n",
    "\n",
    "    y_chipotle_earnings = df_name['old_job_earnings']\n",
    "\n",
    "\n",
    "    plt.plot(x_date, y_chipotle_earnings \\\n",
    "             ,label='Chipotle Earnings'\n",
    "             ,marker='o'\n",
    "             ,color='r'\n",
    "             ,linestyle='--'\n",
    "            )\n",
    "\n",
    "    # ------------------------------------ Display Plot(s) ------------------------------------ #\n",
    "    plt.title('Earnings per Shift')\n",
    "    plt.xlabel('Date of Shift')\n",
    "    plt.ylabel('Earnings in $USD')\n",
    "    plt.legend()\n",
    "    plt.plot()\n",
    "    plt.grid(True)\n",
    "\n",
    "    plt.show()\n",
    "\n",
    "#-------------------------------------------------------------------------------------------------------------------------#\n",
    "\n",
    "\n",
    "\n",
    "#-------------------------------------------------------------------------------------------------------------------------#"
   ]
  },
  {
   "cell_type": "code",
   "execution_count": 4,
   "id": "f768e274",
   "metadata": {},
   "outputs": [
    {
     "name": "stdout",
     "output_type": "stream",
     "text": [
      "6 Databases Found ... \n",
      "\n",
      "admin\n",
      "\n",
      "commerce_db\n",
      "\n",
      "config\n",
      "\n",
      "jj_earnings\n",
      "\n",
      "local\n",
      "\n",
      "mars_app\n",
      "\n",
      "------------------------\n",
      "Which Database would you like to load? Use exact spelling.. jj_earnings\n",
      "\n",
      "Database \"jj_earnings\" Successfully Loaded\n",
      "\n",
      "{'date_of_shift': '12-31-21', 'tips': 41.0, 'hours': 7.75, 'earnings': 114.62, 'effective_wage': 14.79, 'old_job_earnings': 127.88, 'old_job_comparison': -13.25, 'starting_mileage': 0, 'ending_mileage': 0, 'change_in_mileage': 0}\n",
      "{'date_of_shift': '01-01-22', 'tips': 45.0, 'hours': 6.0, 'earnings': 102.0, 'effective_wage': 17.0, 'old_job_earnings': 99.0, 'old_job_comparison': 3.0, 'starting_mileage': 0, 'ending_mileage': 0, 'change_in_mileage': 0}\n",
      "{'date_of_shift': '01-02-22', 'tips': 71.0, 'hours': 10.2, 'earnings': 167.9, 'effective_wage': 16.46, 'old_job_earnings': 168.3, 'old_job_comparison': -0.4, 'starting_mileage': 0, 'ending_mileage': 0, 'change_in_mileage': 0}\n"
     ]
    },
    {
     "data": {
      "image/png": "[encoded data removed]",
      "text/plain": [
       "<Figure size 1382.4x777.6 with 1 Axes>"
      ]
     },
     "metadata": {
      "needs_background": "light"
     },
     "output_type": "display_data"
    }
   ],
   "source": [
    "class show_me_the_money:\n",
    "    df_name = pd.DataFrame(database_pull())\n",
    "\n",
    "    \n",
    "    plot_earnings(df_name)"
   ]
  },
  {
   "cell_type": "code",
   "execution_count": null,
   "id": "bdead145",
   "metadata": {
    "scrolled": false
   },
   "outputs": [],
   "source": [
    "earnings_df = pd.DataFrame(database_pull())\n",
    "earnings_df"
   ]
  },
  {
   "cell_type": "code",
   "execution_count": null,
   "id": "fc6bd9d3",
   "metadata": {},
   "outputs": [],
   "source": [
    "jj_date_index = set_Index(earnings_df, \"date_of_shift\")\n",
    "jj_date_index"
   ]
  },
  {
   "cell_type": "code",
   "execution_count": null,
   "id": "831754a6",
   "metadata": {},
   "outputs": [],
   "source": [
    "jj_date_index.describe()"
   ]
  },
  {
   "cell_type": "code",
   "execution_count": null,
   "id": "c9ae6e99",
   "metadata": {},
   "outputs": [],
   "source": [
    "plot_earnings()"
   ]
  },
  {
   "cell_type": "code",
   "execution_count": null,
   "id": "f72c74a7",
   "metadata": {},
   "outputs": [],
   "source": []
  },
  {
   "cell_type": "code",
   "execution_count": null,
   "id": "6eacf0e7",
   "metadata": {},
   "outputs": [],
   "source": []
  },
  {
   "cell_type": "code",
   "execution_count": null,
   "id": "376f2f42",
   "metadata": {},
   "outputs": [],
   "source": []
  },
  {
   "cell_type": "code",
   "execution_count": null,
   "id": "bd32e215",
   "metadata": {},
   "outputs": [],
   "source": []
  },
  {
   "cell_type": "code",
   "execution_count": null,
   "id": "bad6018d",
   "metadata": {},
   "outputs": [],
   "source": []
  },
  {
   "cell_type": "code",
   "execution_count": null,
   "id": "aec52557",
   "metadata": {},
   "outputs": [],
   "source": []
  },
  {
   "cell_type": "code",
   "execution_count": null,
   "id": "9ef5edf2",
   "metadata": {},
   "outputs": [],
   "source": []
  },
  {
   "cell_type": "code",
   "execution_count": null,
   "id": "dca8886c",
   "metadata": {},
   "outputs": [],
   "source": []
  },
  {
   "cell_type": "code",
   "execution_count": null,
   "id": "a74f595d",
   "metadata": {},
   "outputs": [],
   "source": []
  },
  {
   "cell_type": "code",
   "execution_count": null,
   "id": "3a38e1a4",
   "metadata": {},
   "outputs": [],
   "source": []
  },
  {
   "cell_type": "markdown",
   "id": "5ad30615",
   "metadata": {},
   "source": [
    "reshape functions to pull docs, add to list, display and request which info is desired\n",
    "\n",
    "double while statement?\n",
    "\n",
    " then build a DF/find statement out of the desired info and display a pandas DF from said information\n",
    " \n",
    " have graphong function to request x / y values using name_of_df['column']\n",
    " ask for labels, colors, marker and line styles.\n",
    " plot the information\n",
    " \n",
    " consider multi plot for displaying all desired info comparisons at once, could be fun."
   ]
  }
 ],
 "metadata": {
  "kernelspec": {
   "display_name": "Python 3",
   "language": "python",
   "name": "python3"
  },
  "language_info": {
   "codemirror_mode": {
    "name": "ipython",
    "version": 3
   },
   "file_extension": ".py",
   "mimetype": "text/x-python",
   "name": "python",
   "nbconvert_exporter": "python",
   "pygments_lexer": "ipython3",
   "version": "3.8.8"
  }
 },
 "nbformat": 4,
 "nbformat_minor": 5
}
